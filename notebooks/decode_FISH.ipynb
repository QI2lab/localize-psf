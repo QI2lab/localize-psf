{
 "cells": [
  {
   "cell_type": "markdown",
   "metadata": {},
   "source": [
    "# FISH decoding"
   ]
  },
  {
   "cell_type": "markdown",
   "metadata": {},
   "source": [
    "Aim:  \n",
    "Identify RNA species from spots coordinates `[round, z, y, x]` and a codebook `{roud | barcode: species}` for non barcoded and barcoded FSIH experiments."
   ]
  },
  {
   "cell_type": "code",
   "execution_count": 1,
   "metadata": {},
   "outputs": [],
   "source": [
    "import numpy as np\n",
    "import pandas as pd\n",
    "from localize_psf import fish\n",
    "from localize_psf import decode\n",
    "from importlib import reload"
   ]
  },
  {
   "cell_type": "code",
   "execution_count": 3,
   "metadata": {},
   "outputs": [
    {
     "data": {
      "text/plain": [
       "<module 'localize_psf.decode' from '/home/alexis/Documents/Pro/Postdoc_ASU/from_lab/Projects/localize-psf/localize_psf/decode.py'>"
      ]
     },
     "execution_count": 3,
     "metadata": {},
     "output_type": "execute_result"
    }
   ],
   "source": [
    "reload(decode)"
   ]
  },
  {
   "cell_type": "code",
   "execution_count": 4,
   "metadata": {},
   "outputs": [],
   "source": [
    "species = ['a', 'b', 'c']\n",
    "n_spots = 3\n",
    "tile_shape = [25, 250, 500]\n",
    "codebook = {'a': '01', 'b': '10', 'c': '11'}\n",
    "coords = decode.generate_barcoded_spots(species, n_spots, tile_shape, codebook)"
   ]
  },
  {
   "cell_type": "code",
   "execution_count": 5,
   "metadata": {},
   "outputs": [
    {
     "data": {
      "text/html": [
       "<div>\n",
       "<style scoped>\n",
       "    .dataframe tbody tr th:only-of-type {\n",
       "        vertical-align: middle;\n",
       "    }\n",
       "\n",
       "    .dataframe tbody tr th {\n",
       "        vertical-align: top;\n",
       "    }\n",
       "\n",
       "    .dataframe thead th {\n",
       "        text-align: right;\n",
       "    }\n",
       "</style>\n",
       "<table border=\"1\" class=\"dataframe\">\n",
       "  <thead>\n",
       "    <tr style=\"text-align: right;\">\n",
       "      <th></th>\n",
       "      <th>z</th>\n",
       "      <th>y</th>\n",
       "      <th>x</th>\n",
       "      <th>rounds</th>\n",
       "      <th>species</th>\n",
       "    </tr>\n",
       "  </thead>\n",
       "  <tbody>\n",
       "    <tr>\n",
       "      <th>0</th>\n",
       "      <td>20.904648</td>\n",
       "      <td>21.117879</td>\n",
       "      <td>30.041773</td>\n",
       "      <td>1</td>\n",
       "      <td>a</td>\n",
       "    </tr>\n",
       "    <tr>\n",
       "      <th>1</th>\n",
       "      <td>15.581646</td>\n",
       "      <td>111.508819</td>\n",
       "      <td>496.129627</td>\n",
       "      <td>1</td>\n",
       "      <td>a</td>\n",
       "    </tr>\n",
       "    <tr>\n",
       "      <th>2</th>\n",
       "      <td>4.695601</td>\n",
       "      <td>38.349943</td>\n",
       "      <td>84.725115</td>\n",
       "      <td>1</td>\n",
       "      <td>a</td>\n",
       "    </tr>\n",
       "    <tr>\n",
       "      <th>3</th>\n",
       "      <td>21.128554</td>\n",
       "      <td>93.936517</td>\n",
       "      <td>430.722955</td>\n",
       "      <td>0</td>\n",
       "      <td>b</td>\n",
       "    </tr>\n",
       "    <tr>\n",
       "      <th>4</th>\n",
       "      <td>9.281738</td>\n",
       "      <td>25.198916</td>\n",
       "      <td>172.996232</td>\n",
       "      <td>0</td>\n",
       "      <td>b</td>\n",
       "    </tr>\n",
       "    <tr>\n",
       "      <th>5</th>\n",
       "      <td>23.422782</td>\n",
       "      <td>218.378095</td>\n",
       "      <td>484.580046</td>\n",
       "      <td>0</td>\n",
       "      <td>b</td>\n",
       "    </tr>\n",
       "    <tr>\n",
       "      <th>6</th>\n",
       "      <td>17.056078</td>\n",
       "      <td>11.713500</td>\n",
       "      <td>80.650767</td>\n",
       "      <td>0</td>\n",
       "      <td>c</td>\n",
       "    </tr>\n",
       "    <tr>\n",
       "      <th>7</th>\n",
       "      <td>18.008513</td>\n",
       "      <td>128.665228</td>\n",
       "      <td>450.680225</td>\n",
       "      <td>0</td>\n",
       "      <td>c</td>\n",
       "    </tr>\n",
       "    <tr>\n",
       "      <th>8</th>\n",
       "      <td>4.959338</td>\n",
       "      <td>220.610608</td>\n",
       "      <td>238.513446</td>\n",
       "      <td>0</td>\n",
       "      <td>c</td>\n",
       "    </tr>\n",
       "    <tr>\n",
       "      <th>9</th>\n",
       "      <td>17.056078</td>\n",
       "      <td>11.713500</td>\n",
       "      <td>80.650767</td>\n",
       "      <td>1</td>\n",
       "      <td>c</td>\n",
       "    </tr>\n",
       "    <tr>\n",
       "      <th>10</th>\n",
       "      <td>18.008513</td>\n",
       "      <td>128.665228</td>\n",
       "      <td>450.680225</td>\n",
       "      <td>1</td>\n",
       "      <td>c</td>\n",
       "    </tr>\n",
       "    <tr>\n",
       "      <th>11</th>\n",
       "      <td>4.959338</td>\n",
       "      <td>220.610608</td>\n",
       "      <td>238.513446</td>\n",
       "      <td>1</td>\n",
       "      <td>c</td>\n",
       "    </tr>\n",
       "  </tbody>\n",
       "</table>\n",
       "</div>"
      ],
      "text/plain": [
       "            z           y           x  rounds species\n",
       "0   20.904648   21.117879   30.041773       1       a\n",
       "1   15.581646  111.508819  496.129627       1       a\n",
       "2    4.695601   38.349943   84.725115       1       a\n",
       "3   21.128554   93.936517  430.722955       0       b\n",
       "4    9.281738   25.198916  172.996232       0       b\n",
       "5   23.422782  218.378095  484.580046       0       b\n",
       "6   17.056078   11.713500   80.650767       0       c\n",
       "7   18.008513  128.665228  450.680225       0       c\n",
       "8    4.959338  220.610608  238.513446       0       c\n",
       "9   17.056078   11.713500   80.650767       1       c\n",
       "10  18.008513  128.665228  450.680225       1       c\n",
       "11   4.959338  220.610608  238.513446       1       c"
      ]
     },
     "execution_count": 5,
     "metadata": {},
     "output_type": "execute_result"
    }
   ],
   "source": [
    "coords"
   ]
  },
  {
   "cell_type": "code",
   "execution_count": 7,
   "metadata": {},
   "outputs": [],
   "source": [
    "def identify_barcoded_spots(coords, codebook, distances):\n",
    "    \"\"\"\n",
    "    Parameters\n",
    "    ----------\n",
    "    coords : DataFrame\n",
    "        Coordinates of all spots.\n",
    "    codebook : dict\n",
    "        Association from species to rounds.\n",
    "    \n",
    "    Returns\n",
    "    -------\n",
    "    species : DataFrame\n",
    "        Decoded FISH spots identities with their coordinates.\n",
    "\n",
    "    Example\n",
    "    -------\n",
    "    >>> species_labels = ['a', 'b', 'c']\n",
    "    >>> n_spots = 10\n",
    "    >>> tile_shape = [50, 250, 500]\n",
    "    >>> coords, codebook = generate_nonbarcoded_spots(species_labels, n_spots, tile_shape)\n",
    "    >>> measured_coords = coords.drop(columns=['species'])\n",
    "    >>> identify_nonbarcoded_spots(measured_coords, codebook)\n",
    "    \"\"\"\n",
    "\n",
    "    nb_rounds = len(next(iter(codebook.values())))\n",
    "    # make dictionnary barcode --> species from dictionnary species --> barcode\n",
    "    inv_codebook = {val: key for key, val in codebook.items()}\n",
    "    max_z = distances[0]\n",
    "    max_xy = distances[1]\n",
    "    \n",
    "    # max projection of coordinates over rounds:\n",
    "    # ignore the round information and fuse neighbooring spots\n",
    "    proj_coords = coords.iloc[:, 0:3]\n",
    "    # proj_coords = fish.merge_peaks(proj_coords, max_z=distances[0], max_xy=distances[1], weights=None, method='network', verbose=True)\n",
    "    nb_nodes = len(proj_coords)\n",
    "    for node_id in range(nb_nodes):\n",
    "        for round_id in range(nb_rounds):\n",
    "            # build the radial distance network using the bigest radius: max distance along z axis\n",
    "            pairs = ty.build_rdn(coords=proj_coords, r=max_z)\n",
    "            if len(pairs) == 0:\n",
    "                # all nodes are well separated from each other, do nothing\n",
    "                merged_coords = proj_coords\n",
    "            else:\n",
    "                # fuse nodes that have too close neighbors\n",
    "                source = proj_coords[pairs[:, 0]]\n",
    "                target = proj_coords[pairs[:, 1]]\n",
    "                # compute the 2 distances arrays\n",
    "                dist_z, dist_xy = fish.compute_distances(source, target)\n",
    "                # perform grph cut from the 2 distance thresholds\n",
    "                _, pairs = fish.cut_graph_bidistance(dist_z, dist_xy, max_z, max_xy, pairs=pairs)\n",
    "\n",
    "\n"
   ]
  },
  {
   "cell_type": "markdown",
   "metadata": {},
   "source": [
    "Barcode reconstruction algorithm:\n",
    "  - for each spot in each round, we reconstruct all potential barcodes:\n",
    "    - we look for its neighbors in a given radius across rounds, there can be multiple ones per round\n",
    "    - if there is at least 1 neighbors in a round, the corresponding barcode bit is 1, else 0\n",
    "  - clean redundant barcodes related to same locations:\n",
    "    - merge identical barcodes within the same area\n",
    "    - keep differing barcodes within the same area\n",
    "\n",
    "If barcode reconstruction per round is a single function, it's easy to parallelize per round. If we have many more cores, we can split spots coordinates per round across several cores."
   ]
  },
  {
   "cell_type": "code",
   "execution_count": 8,
   "metadata": {},
   "outputs": [
    {
     "name": "stdout",
     "output_type": "stream",
     "text": [
      "0 [1 1]\n",
      "[[1 1]\n",
      " [0 1]\n",
      " [2 3]\n",
      " [3 1]\n",
      " [4 4]\n",
      " [5 4]]\n",
      "[[2 3]\n",
      " [4 4]\n",
      " [5 4]]\n",
      "0 [2 3]\n",
      "[[2 3]\n",
      " [4 4]\n",
      " [5 4]]\n",
      "[[2 3]\n",
      " [4 4]\n",
      " [5 4]]\n",
      "1 [4 4]\n",
      "[[2 3]\n",
      " [4 4]\n",
      " [5 4]]\n",
      "[[2 3]]\n"
     ]
    }
   ],
   "source": [
    "a = np.arange(20) \n",
    "# for i in np.nditer(a, op_flags=['readwrite']):\n",
    "#     print(i)\n",
    "#     print(a)\n",
    "#     a = np.delete(a, i+1)\n",
    "#     print(a)\n",
    "\n",
    "# i = 0\n",
    "# while i < len(a):\n",
    "#     print(i, a[i])\n",
    "#     print(a)\n",
    "#     a = np.delete(a, i+1)\n",
    "#     print(a)\n",
    "#     i += 1\n",
    "\n",
    "a = np.array([[1, 1], [0, 1], [2, 3], [3, 1], [4, 4], [5, 4]])\n",
    "\n",
    "\n",
    "\n",
    "k = 0\n",
    "while k < len(a):\n",
    "    i, j = a[k]\n",
    "    print(k, a[k])\n",
    "    print(a)\n",
    "    if i == j:\n",
    "        a = a[a[:, 1] != j, :]\n",
    "    else:\n",
    "        k += 1\n",
    "    print(a)\n",
    "    \n"
   ]
  },
  {
   "cell_type": "code",
   "execution_count": 63,
   "metadata": {},
   "outputs": [],
   "source": [
    "species = ['a', 'b', 'c']\n",
    "n_spots = 3\n",
    "tile_shape = [25, 250, 500]\n",
    "codebook = {'a': '01', 'b': '10', 'c': '11'}\n",
    "coords_df = decode.generate_barcoded_spots(species, n_spots, tile_shape, codebook)\n",
    "# round coordinates for readability\n",
    "coords_df.iloc[:, :3] = np.round(coords_df.iloc[:, :3], 2)"
   ]
  },
  {
   "cell_type": "code",
   "execution_count": 64,
   "metadata": {},
   "outputs": [
    {
     "data": {
      "text/html": [
       "<div>\n",
       "<style scoped>\n",
       "    .dataframe tbody tr th:only-of-type {\n",
       "        vertical-align: middle;\n",
       "    }\n",
       "\n",
       "    .dataframe tbody tr th {\n",
       "        vertical-align: top;\n",
       "    }\n",
       "\n",
       "    .dataframe thead th {\n",
       "        text-align: right;\n",
       "    }\n",
       "</style>\n",
       "<table border=\"1\" class=\"dataframe\">\n",
       "  <thead>\n",
       "    <tr style=\"text-align: right;\">\n",
       "      <th></th>\n",
       "      <th>z</th>\n",
       "      <th>y</th>\n",
       "      <th>x</th>\n",
       "      <th>rounds</th>\n",
       "      <th>species</th>\n",
       "    </tr>\n",
       "  </thead>\n",
       "  <tbody>\n",
       "    <tr>\n",
       "      <th>0</th>\n",
       "      <td>10.87</td>\n",
       "      <td>116.39</td>\n",
       "      <td>181.66</td>\n",
       "      <td>1</td>\n",
       "      <td>a</td>\n",
       "    </tr>\n",
       "    <tr>\n",
       "      <th>1</th>\n",
       "      <td>12.59</td>\n",
       "      <td>223.82</td>\n",
       "      <td>267.36</td>\n",
       "      <td>1</td>\n",
       "      <td>a</td>\n",
       "    </tr>\n",
       "    <tr>\n",
       "      <th>2</th>\n",
       "      <td>4.59</td>\n",
       "      <td>206.72</td>\n",
       "      <td>2.06</td>\n",
       "      <td>1</td>\n",
       "      <td>a</td>\n",
       "    </tr>\n",
       "    <tr>\n",
       "      <th>3</th>\n",
       "      <td>2.78</td>\n",
       "      <td>3.64</td>\n",
       "      <td>434.57</td>\n",
       "      <td>0</td>\n",
       "      <td>b</td>\n",
       "    </tr>\n",
       "    <tr>\n",
       "      <th>4</th>\n",
       "      <td>14.23</td>\n",
       "      <td>60.10</td>\n",
       "      <td>498.79</td>\n",
       "      <td>0</td>\n",
       "      <td>b</td>\n",
       "    </tr>\n",
       "    <tr>\n",
       "      <th>5</th>\n",
       "      <td>8.04</td>\n",
       "      <td>245.03</td>\n",
       "      <td>257.65</td>\n",
       "      <td>0</td>\n",
       "      <td>b</td>\n",
       "    </tr>\n",
       "    <tr>\n",
       "      <th>6</th>\n",
       "      <td>14.64</td>\n",
       "      <td>214.89</td>\n",
       "      <td>71.46</td>\n",
       "      <td>0</td>\n",
       "      <td>c</td>\n",
       "    </tr>\n",
       "    <tr>\n",
       "      <th>7</th>\n",
       "      <td>0.03</td>\n",
       "      <td>184.91</td>\n",
       "      <td>15.89</td>\n",
       "      <td>0</td>\n",
       "      <td>c</td>\n",
       "    </tr>\n",
       "    <tr>\n",
       "      <th>8</th>\n",
       "      <td>13.84</td>\n",
       "      <td>138.63</td>\n",
       "      <td>30.03</td>\n",
       "      <td>0</td>\n",
       "      <td>c</td>\n",
       "    </tr>\n",
       "    <tr>\n",
       "      <th>9</th>\n",
       "      <td>14.64</td>\n",
       "      <td>214.89</td>\n",
       "      <td>71.46</td>\n",
       "      <td>1</td>\n",
       "      <td>c</td>\n",
       "    </tr>\n",
       "    <tr>\n",
       "      <th>10</th>\n",
       "      <td>0.03</td>\n",
       "      <td>184.91</td>\n",
       "      <td>15.89</td>\n",
       "      <td>1</td>\n",
       "      <td>c</td>\n",
       "    </tr>\n",
       "    <tr>\n",
       "      <th>11</th>\n",
       "      <td>13.84</td>\n",
       "      <td>138.63</td>\n",
       "      <td>30.03</td>\n",
       "      <td>1</td>\n",
       "      <td>c</td>\n",
       "    </tr>\n",
       "  </tbody>\n",
       "</table>\n",
       "</div>"
      ],
      "text/plain": [
       "        z       y       x  rounds species\n",
       "0   10.87  116.39  181.66       1       a\n",
       "1   12.59  223.82  267.36       1       a\n",
       "2    4.59  206.72    2.06       1       a\n",
       "3    2.78    3.64  434.57       0       b\n",
       "4   14.23   60.10  498.79       0       b\n",
       "5    8.04  245.03  257.65       0       b\n",
       "6   14.64  214.89   71.46       0       c\n",
       "7    0.03  184.91   15.89       0       c\n",
       "8   13.84  138.63   30.03       0       c\n",
       "9   14.64  214.89   71.46       1       c\n",
       "10   0.03  184.91   15.89       1       c\n",
       "11  13.84  138.63   30.03       1       c"
      ]
     },
     "execution_count": 64,
     "metadata": {},
     "output_type": "execute_result"
    }
   ],
   "source": [
    "coords_df"
   ]
  },
  {
   "cell_type": "code",
   "execution_count": 65,
   "metadata": {},
   "outputs": [
    {
     "data": {
      "text/plain": [
       "[array([[1.0870e+01, 1.1639e+02, 1.8166e+02],\n",
       "        [1.2590e+01, 2.2382e+02, 2.6736e+02],\n",
       "        [4.5900e+00, 2.0672e+02, 2.0600e+00],\n",
       "        [1.4640e+01, 2.1489e+02, 7.1460e+01],\n",
       "        [3.0000e-02, 1.8491e+02, 1.5890e+01],\n",
       "        [1.3840e+01, 1.3863e+02, 3.0030e+01]]),\n",
       " array([[2.7800e+00, 3.6400e+00, 4.3457e+02],\n",
       "        [1.4230e+01, 6.0100e+01, 4.9879e+02],\n",
       "        [8.0400e+00, 2.4503e+02, 2.5765e+02],\n",
       "        [1.4640e+01, 2.1489e+02, 7.1460e+01],\n",
       "        [3.0000e-02, 1.8491e+02, 1.5890e+01],\n",
       "        [1.3840e+01, 1.3863e+02, 3.0030e+01]])]"
      ]
     },
     "execution_count": 65,
     "metadata": {},
     "output_type": "execute_result"
    }
   ],
   "source": [
    "coords = decode.df_to_listarray(coords_df, 'rounds', ['z', 'y', 'x'])\n",
    "coords"
   ]
  },
  {
   "cell_type": "code",
   "execution_count": 72,
   "metadata": {},
   "outputs": [],
   "source": [
    "reload(decode)\n",
    "coords = decode.df_to_listarray(coords_df, 'rounds', ['z', 'y', 'x'])\n",
    "species, coords, barcodes = decode.decode_spots(\n",
    "    coords=coords,\n",
    "    codebook=codebook,\n",
    "    dist_params=(0.1, 0.1), \n",
    "    clean_min=1, \n",
    "    clean_max=3,\n",
    "    )\n"
   ]
  },
  {
   "cell_type": "code",
   "execution_count": 73,
   "metadata": {},
   "outputs": [
    {
     "data": {
      "text/plain": [
       "['b', 'b', 'b', 'c', 'c', 'c', 'a', 'a', 'a']"
      ]
     },
     "execution_count": 73,
     "metadata": {},
     "output_type": "execute_result"
    }
   ],
   "source": [
    "species"
   ]
  },
  {
   "cell_type": "code",
   "execution_count": 74,
   "metadata": {},
   "outputs": [
    {
     "data": {
      "text/plain": [
       "['10', '10', '10', '11', '11', '11', '01', '01', '01']"
      ]
     },
     "execution_count": 74,
     "metadata": {},
     "output_type": "execute_result"
    }
   ],
   "source": [
    "barcodes"
   ]
  },
  {
   "cell_type": "code",
   "execution_count": 75,
   "metadata": {},
   "outputs": [
    {
     "data": {
      "text/plain": [
       "array([[1.0870e+01, 1.1639e+02, 1.8166e+02],\n",
       "       [1.2590e+01, 2.2382e+02, 2.6736e+02],\n",
       "       [4.5900e+00, 2.0672e+02, 2.0600e+00],\n",
       "       [1.4640e+01, 2.1489e+02, 7.1460e+01],\n",
       "       [3.0000e-02, 1.8491e+02, 1.5890e+01],\n",
       "       [1.3840e+01, 1.3863e+02, 3.0030e+01],\n",
       "       [2.7800e+00, 3.6400e+00, 4.3457e+02],\n",
       "       [1.4230e+01, 6.0100e+01, 4.9879e+02],\n",
       "       [8.0400e+00, 2.4503e+02, 2.5765e+02]])"
      ]
     },
     "execution_count": 75,
     "metadata": {},
     "output_type": "execute_result"
    }
   ],
   "source": [
    "coords"
   ]
  },
  {
   "cell_type": "code",
   "execution_count": null,
   "metadata": {},
   "outputs": [],
   "source": []
  },
  {
   "cell_type": "code",
   "execution_count": 216,
   "metadata": {},
   "outputs": [
    {
     "data": {
      "text/plain": [
       "<module 'localize_psf.decode' from '/home/alexis/Documents/Pro/Postdoc_ASU/from_lab/Projects/localize-psf/localize_psf/decode.py'>"
      ]
     },
     "execution_count": 216,
     "metadata": {},
     "output_type": "execute_result"
    }
   ],
   "source": [
    "reload(decode)"
   ]
  },
  {
   "cell_type": "code",
   "execution_count": 226,
   "metadata": {},
   "outputs": [],
   "source": [
    "species = ['a', 'b', 'c']\n",
    "n_spots = 3\n",
    "tile_shape = [25, 250, 250]\n",
    "codebook = {'a': '01', 'b': '10', 'c': '11'}\n",
    "noise = 1.0\n",
    "coords_df, true_coords = decode.generate_barcoded_spots(species, n_spots, tile_shape, codebook, noise=noise)"
   ]
  },
  {
   "cell_type": "code",
   "execution_count": 227,
   "metadata": {},
   "outputs": [
    {
     "data": {
      "text/html": [
       "<div>\n",
       "<style scoped>\n",
       "    .dataframe tbody tr th:only-of-type {\n",
       "        vertical-align: middle;\n",
       "    }\n",
       "\n",
       "    .dataframe tbody tr th {\n",
       "        vertical-align: top;\n",
       "    }\n",
       "\n",
       "    .dataframe thead th {\n",
       "        text-align: right;\n",
       "    }\n",
       "</style>\n",
       "<table border=\"1\" class=\"dataframe\">\n",
       "  <thead>\n",
       "    <tr style=\"text-align: right;\">\n",
       "      <th></th>\n",
       "      <th>z</th>\n",
       "      <th>y</th>\n",
       "      <th>x</th>\n",
       "      <th>rounds</th>\n",
       "      <th>species</th>\n",
       "    </tr>\n",
       "  </thead>\n",
       "  <tbody>\n",
       "    <tr>\n",
       "      <th>0</th>\n",
       "      <td>21.043297</td>\n",
       "      <td>113.474992</td>\n",
       "      <td>141.630903</td>\n",
       "      <td>1</td>\n",
       "      <td>a</td>\n",
       "    </tr>\n",
       "    <tr>\n",
       "      <th>1</th>\n",
       "      <td>21.354492</td>\n",
       "      <td>192.717120</td>\n",
       "      <td>38.977982</td>\n",
       "      <td>1</td>\n",
       "      <td>a</td>\n",
       "    </tr>\n",
       "    <tr>\n",
       "      <th>2</th>\n",
       "      <td>3.776233</td>\n",
       "      <td>16.151990</td>\n",
       "      <td>82.618791</td>\n",
       "      <td>1</td>\n",
       "      <td>a</td>\n",
       "    </tr>\n",
       "    <tr>\n",
       "      <th>3</th>\n",
       "      <td>18.471788</td>\n",
       "      <td>3.614171</td>\n",
       "      <td>238.581713</td>\n",
       "      <td>0</td>\n",
       "      <td>b</td>\n",
       "    </tr>\n",
       "    <tr>\n",
       "      <th>4</th>\n",
       "      <td>19.348922</td>\n",
       "      <td>229.572685</td>\n",
       "      <td>218.662635</td>\n",
       "      <td>0</td>\n",
       "      <td>b</td>\n",
       "    </tr>\n",
       "    <tr>\n",
       "      <th>5</th>\n",
       "      <td>1.889816</td>\n",
       "      <td>89.103530</td>\n",
       "      <td>207.413790</td>\n",
       "      <td>0</td>\n",
       "      <td>b</td>\n",
       "    </tr>\n",
       "    <tr>\n",
       "      <th>6</th>\n",
       "      <td>2.718013</td>\n",
       "      <td>82.269012</td>\n",
       "      <td>61.836827</td>\n",
       "      <td>0</td>\n",
       "      <td>c</td>\n",
       "    </tr>\n",
       "    <tr>\n",
       "      <th>7</th>\n",
       "      <td>4.355218</td>\n",
       "      <td>196.325989</td>\n",
       "      <td>100.673822</td>\n",
       "      <td>0</td>\n",
       "      <td>c</td>\n",
       "    </tr>\n",
       "    <tr>\n",
       "      <th>8</th>\n",
       "      <td>4.856124</td>\n",
       "      <td>160.343859</td>\n",
       "      <td>181.708358</td>\n",
       "      <td>0</td>\n",
       "      <td>c</td>\n",
       "    </tr>\n",
       "    <tr>\n",
       "      <th>9</th>\n",
       "      <td>2.552005</td>\n",
       "      <td>81.548435</td>\n",
       "      <td>61.776103</td>\n",
       "      <td>1</td>\n",
       "      <td>c</td>\n",
       "    </tr>\n",
       "    <tr>\n",
       "      <th>10</th>\n",
       "      <td>2.441394</td>\n",
       "      <td>194.820675</td>\n",
       "      <td>101.403793</td>\n",
       "      <td>1</td>\n",
       "      <td>c</td>\n",
       "    </tr>\n",
       "    <tr>\n",
       "      <th>11</th>\n",
       "      <td>5.141364</td>\n",
       "      <td>159.538759</td>\n",
       "      <td>181.368664</td>\n",
       "      <td>1</td>\n",
       "      <td>c</td>\n",
       "    </tr>\n",
       "  </tbody>\n",
       "</table>\n",
       "</div>"
      ],
      "text/plain": [
       "            z           y           x  rounds species\n",
       "0   21.043297  113.474992  141.630903       1       a\n",
       "1   21.354492  192.717120   38.977982       1       a\n",
       "2    3.776233   16.151990   82.618791       1       a\n",
       "3   18.471788    3.614171  238.581713       0       b\n",
       "4   19.348922  229.572685  218.662635       0       b\n",
       "5    1.889816   89.103530  207.413790       0       b\n",
       "6    2.718013   82.269012   61.836827       0       c\n",
       "7    4.355218  196.325989  100.673822       0       c\n",
       "8    4.856124  160.343859  181.708358       0       c\n",
       "9    2.552005   81.548435   61.776103       1       c\n",
       "10   2.441394  194.820675  101.403793       1       c\n",
       "11   5.141364  159.538759  181.368664       1       c"
      ]
     },
     "execution_count": 227,
     "metadata": {},
     "output_type": "execute_result"
    }
   ],
   "source": [
    "coords_df"
   ]
  },
  {
   "cell_type": "code",
   "execution_count": 228,
   "metadata": {},
   "outputs": [],
   "source": [
    "reload(decode)\n",
    "if noise is None:\n",
    "    dist_params = (0.00001, 0.00001)\n",
    "else:\n",
    "    dist_params = (2*noise, 2*noise)\n",
    "coords = decode.df_to_listarray(coords_df, 'rounds', ['z', 'y', 'x'])\n",
    "species, coords, barcodes = decode.decode_spots(\n",
    "    coords=coords,\n",
    "    codebook=codebook,\n",
    "    dist_params=dist_params, \n",
    "    clean_min=1, \n",
    "    clean_max=3,\n",
    "    )"
   ]
  },
  {
   "cell_type": "code",
   "execution_count": 229,
   "metadata": {},
   "outputs": [
    {
     "data": {
      "text/plain": [
       "['b', 'b', 'b', 'c', 'c', 'c', 'a', 'a', 'a']"
      ]
     },
     "execution_count": 229,
     "metadata": {},
     "output_type": "execute_result"
    }
   ],
   "source": [
    "species"
   ]
  },
  {
   "cell_type": "code",
   "execution_count": 230,
   "metadata": {},
   "outputs": [
    {
     "data": {
      "text/plain": [
       "array([[ 18.47178802,   3.61417098, 238.58171283],\n",
       "       [ 19.34892169, 229.57268516, 218.66263461],\n",
       "       [  1.88981593,  89.10352991, 207.41379025],\n",
       "       [  2.71801314,  82.26901222,  61.83682703],\n",
       "       [  4.35521767, 196.32598904, 100.67382157],\n",
       "       [  4.85612401, 160.34385853, 181.70835771],\n",
       "       [ 21.04329702, 113.47499213, 141.63090265],\n",
       "       [ 21.35449165, 192.71712034,  38.97798212],\n",
       "       [  3.77623263,  16.15198976,  82.6187909 ]])"
      ]
     },
     "execution_count": 230,
     "metadata": {},
     "output_type": "execute_result"
    }
   ],
   "source": [
    "coords"
   ]
  },
  {
   "cell_type": "code",
   "execution_count": 231,
   "metadata": {},
   "outputs": [
    {
     "data": {
      "text/html": [
       "<div>\n",
       "<style scoped>\n",
       "    .dataframe tbody tr th:only-of-type {\n",
       "        vertical-align: middle;\n",
       "    }\n",
       "\n",
       "    .dataframe tbody tr th {\n",
       "        vertical-align: top;\n",
       "    }\n",
       "\n",
       "    .dataframe thead th {\n",
       "        text-align: right;\n",
       "    }\n",
       "</style>\n",
       "<table border=\"1\" class=\"dataframe\">\n",
       "  <thead>\n",
       "    <tr style=\"text-align: right;\">\n",
       "      <th></th>\n",
       "      <th>z</th>\n",
       "      <th>y</th>\n",
       "      <th>x</th>\n",
       "      <th>species</th>\n",
       "    </tr>\n",
       "  </thead>\n",
       "  <tbody>\n",
       "    <tr>\n",
       "      <th>0</th>\n",
       "      <td>20.860476</td>\n",
       "      <td>112.935607</td>\n",
       "      <td>142.151447</td>\n",
       "      <td>a</td>\n",
       "    </tr>\n",
       "    <tr>\n",
       "      <th>1</th>\n",
       "      <td>20.379955</td>\n",
       "      <td>192.385847</td>\n",
       "      <td>38.688579</td>\n",
       "      <td>a</td>\n",
       "    </tr>\n",
       "    <tr>\n",
       "      <th>2</th>\n",
       "      <td>3.234660</td>\n",
       "      <td>17.108654</td>\n",
       "      <td>81.791249</td>\n",
       "      <td>a</td>\n",
       "    </tr>\n",
       "    <tr>\n",
       "      <th>3</th>\n",
       "      <td>18.329165</td>\n",
       "      <td>3.311081</td>\n",
       "      <td>239.011274</td>\n",
       "      <td>b</td>\n",
       "    </tr>\n",
       "    <tr>\n",
       "      <th>4</th>\n",
       "      <td>18.882093</td>\n",
       "      <td>229.999421</td>\n",
       "      <td>218.403805</td>\n",
       "      <td>b</td>\n",
       "    </tr>\n",
       "    <tr>\n",
       "      <th>5</th>\n",
       "      <td>2.088186</td>\n",
       "      <td>89.110141</td>\n",
       "      <td>207.683008</td>\n",
       "      <td>b</td>\n",
       "    </tr>\n",
       "    <tr>\n",
       "      <th>6</th>\n",
       "      <td>3.499061</td>\n",
       "      <td>81.769390</td>\n",
       "      <td>61.403382</td>\n",
       "      <td>c</td>\n",
       "    </tr>\n",
       "    <tr>\n",
       "      <th>7</th>\n",
       "      <td>3.390457</td>\n",
       "      <td>195.342278</td>\n",
       "      <td>101.630623</td>\n",
       "      <td>c</td>\n",
       "    </tr>\n",
       "    <tr>\n",
       "      <th>8</th>\n",
       "      <td>4.295044</td>\n",
       "      <td>160.060460</td>\n",
       "      <td>180.892379</td>\n",
       "      <td>c</td>\n",
       "    </tr>\n",
       "  </tbody>\n",
       "</table>\n",
       "</div>"
      ],
      "text/plain": [
       "           z           y           x species\n",
       "0  20.860476  112.935607  142.151447       a\n",
       "1  20.379955  192.385847   38.688579       a\n",
       "2   3.234660   17.108654   81.791249       a\n",
       "3  18.329165    3.311081  239.011274       b\n",
       "4  18.882093  229.999421  218.403805       b\n",
       "5   2.088186   89.110141  207.683008       b\n",
       "6   3.499061   81.769390   61.403382       c\n",
       "7   3.390457  195.342278  101.630623       c\n",
       "8   4.295044  160.060460  180.892379       c"
      ]
     },
     "execution_count": 231,
     "metadata": {},
     "output_type": "execute_result"
    }
   ],
   "source": [
    "true_coords"
   ]
  },
  {
   "cell_type": "code",
   "execution_count": 232,
   "metadata": {},
   "outputs": [
    {
     "data": {
      "image/png": "[encoded data removed]",
      "text/plain": [
       "<Figure size 720x720 with 1 Axes>"
      ]
     },
     "metadata": {
      "needs_background": "light"
     },
     "output_type": "display_data"
    }
   ],
   "source": [
    "reload(decode)\n",
    "decode.plot_compare_decoded_spots(\n",
    "    true_coords.loc[:, ['y', 'x']], \n",
    "    true_species=true_coords['species'], \n",
    "    guessed_coords=coords, \n",
    "    guessed_species=species, \n",
    "    figsize=(10, 10))"
   ]
  }
 ],
 "metadata": {
  "kernelspec": {
   "display_name": "improcess",
   "language": "python",
   "name": "python3"
  },
  "language_info": {
   "codemirror_mode": {
    "name": "ipython",
    "version": 3
   },
   "file_extension": ".py",
   "mimetype": "text/x-python",
   "name": "python",
   "nbconvert_exporter": "python",
   "pygments_lexer": "ipython3",
   "version": "3.8.10"
  },
  "orig_nbformat": 4,
  "vscode": {
   "interpreter": {
    "hash": "282c77e6fafe1433ab9ed56770801bccb5960f5117f4ffb65603965473a42474"
   }
  }
 },
 "nbformat": 4,
 "nbformat_minor": 2
}
