{
 "cells": [
  {
   "cell_type": "markdown",
   "metadata": {},
   "source": [
    "# Napari-based parameters selection"
   ]
  },
  {
   "cell_type": "markdown",
   "metadata": {},
   "source": [
    "Use Napari to interactively modify parameters for spot finding and visualize the results."
   ]
  },
  {
   "cell_type": "markdown",
   "metadata": {},
   "source": [
    "## Select DoG or LoG"
   ]
  },
  {
   "cell_type": "markdown",
   "metadata": {},
   "source": [
    "Wewant to select the min and max size for DoG or LoG kernels, and compare the kernels to spots in a real FISH image."
   ]
  },
  {
   "cell_type": "code",
   "execution_count": 1,
   "metadata": {},
   "outputs": [
    {
     "name": "stdout",
     "output_type": "stream",
     "text": [
      "CUPY_AVAILABLE False\n"
     ]
    }
   ],
   "source": [
    "import os\n",
    "import time\n",
    "import glob\n",
    "import joblib\n",
    "import warnings\n",
    "from pathlib import Path\n",
    "\n",
    "import numpy as np\n",
    "import scipy.signal\n",
    "import scipy.ndimage\n",
    "import matplotlib.pyplot as plt\n",
    "from skimage import filters\n",
    "\n",
    "from tifffile import tifffile\n",
    "import zarr\n",
    "import dask.array as da\n",
    "from dask_image.imread import imread\n",
    "from dask import delayed\n",
    "from skimage.io.collection import alphanumeric_key\n",
    "import pycromanager\n",
    "import napari\n",
    "from napari.qt.threading import thread_worker\n",
    "from magicgui import magicgui\n",
    "# from matplotlib.colors import PowerNorm, LinearSegmentedColormap, Normalize\n",
    "\n",
    "import localize_psf.rois as roi_fns\n",
    "from localize_psf import fit\n",
    "import localize_psf.fit_psf as psf\n",
    "from localize_psf import localize\n",
    "import localize_skewed\n",
    "import image_post_processing as ipp\n",
    "from image_post_processing import deskew"
   ]
  },
  {
   "cell_type": "code",
   "execution_count": 2,
   "metadata": {},
   "outputs": [
    {
     "name": "stdout",
     "output_type": "stream",
     "text": [
      "(512, 9833, 1584)\n"
     ]
    },
    {
     "data": {
      "text/plain": [
       "<Image layer 'ch_2' at 0x7fa28963f0d0>"
      ]
     },
     "execution_count": 2,
     "metadata": {},
     "output_type": "execute_result"
    }
   ],
   "source": [
    "dir_load = Path('../../../from_server')\n",
    "round = 1\n",
    "channel = 2\n",
    "tile = 0\n",
    "\n",
    "viewer = napari.Viewer()\n",
    "path_im = dir_load / 'round-{}_channel-{}_tile-{}.zarr'.format(round, channel, tile)\n",
    "im = da.from_zarr(str(path_im))\n",
    "# im = da.moveaxis(im, 1, 0)\n",
    "print(im.shape)\n",
    "img = im[:, 1000:1512, 512:1024].compute()\n",
    "mini = img.min() # 0\n",
    "maxi = img.max()\n",
    "# mini = im.min().compute() # 0\n",
    "# maxi = im.max().compute()\n",
    "viewer.add_image(\n",
    "    img, \n",
    "    contrast_limits=[mini, maxi], \n",
    "    name='ch_' + str(channel), \n",
    "    # colormap=color, \n",
    "    blending='additive',\n",
    "    )"
   ]
  },
  {
   "cell_type": "code",
   "execution_count": 6,
   "metadata": {},
   "outputs": [
    {
     "data": {
      "text/plain": [
       "(512, 512, 512)"
      ]
     },
     "execution_count": 6,
     "metadata": {},
     "output_type": "execute_result"
    }
   ],
   "source": [
    "# imgs_gauss = [filters.gaussian(x, sigma=1) for x in imgs]"
   ]
  },
  {
   "cell_type": "code",
   "execution_count": 3,
   "metadata": {},
   "outputs": [
    {
     "data": {
      "text/plain": [
       "<matplotlib.image.AxesImage at 0x7fa2501f8b20>"
      ]
     },
     "execution_count": 3,
     "metadata": {},
     "output_type": "execute_result"
    },
    {
     "data": {
      "image/png": "[encoded data removed]",
      "text/plain": [
       "<Figure size 432x288 with 1 Axes>"
      ]
     },
     "metadata": {
      "needs_background": "light"
     },
     "output_type": "display_data"
    }
   ],
   "source": [
    "sigmas = [3., 1.]\n",
    "drs = [1, 1]\n",
    "kernel = localize.get_filter_kernel(sigmas, drs, sigma_cutoff=2)\n",
    "plt.imshow(kernel)"
   ]
  },
  {
   "cell_type": "code",
   "execution_count": 48,
   "metadata": {},
   "outputs": [],
   "source": [
    "# def get_gaussND(shape, sigmas):\n",
    "#     \"\"\"\n",
    "#     Compute a N-dimensional gaussian kernel.\n",
    "\n",
    "#     Parameters\n",
    "#     ----------\n",
    "#     shape : list(int)\n",
    "#         Shape of the whole kernel ndarray.\n",
    "#     sigmas : int of list(int)\n",
    "#         Standard deviation, different for each dimension if a list is provided.\n",
    "    \n",
    "#     Returns\n",
    "#     -------\n",
    "#     kernel : ndarray\n",
    "#         The N-dimensional gaussian kernel.\n",
    "#     \"\"\"\n",
    "#     boundaries = [int((ss-1.)/2.) for ss in shape]\n",
    "#     inputs = [np.expand_dims(np.arange(-x, x+1), axis=i) for i, x in enumerate(boundaries)]\n",
    "#     if isinstance(sigmas, list):\n",
    "#         sigmas = [np.expand_dims(np.full(shape[i] - 1, fill_value=x), axis=i) for i, x in enumerate(sigmas)]\n",
    "#     kernel = np.exp(sum([-rk ** 2 / 2 / sig ** 2 for rk, sig in zip(inputs, sigmas)]))\n",
    "#     kernel = kernel / np.sum(kernel)\n",
    "#     return kernel"
   ]
  },
  {
   "cell_type": "code",
   "execution_count": 49,
   "metadata": {},
   "outputs": [],
   "source": [
    "# kernel = get_gaussND(shape=[50, 50], sigmas=[3, 10])\n",
    "# plt.imshow(kernel, cmap='magma')\n",
    "# plt.colorbar()\n",
    "# # y,x = np.ogrid[-m:m+1,-n:n+1]"
   ]
  },
  {
   "cell_type": "code",
   "execution_count": 4,
   "metadata": {},
   "outputs": [
    {
     "data": {
      "text/plain": [
       "(117, 699, 105)"
      ]
     },
     "execution_count": 4,
     "metadata": {},
     "output_type": "execute_result"
    }
   ],
   "source": [
    "kernel_skewed = localize_skewed.get_filter_kernel_skewed(sigmas=[10, 3, 3], dc=.115, theta=np.pi*30/180, dstage=.4, sigma_cutoff=2)\n",
    "kernel_skewed.shape"
   ]
  },
  {
   "cell_type": "code",
   "execution_count": 5,
   "metadata": {},
   "outputs": [
    {
     "data": {
      "text/plain": [
       "<Image layer 'kernel_deskewed' at 0x7fa2501b3580>"
      ]
     },
     "execution_count": 5,
     "metadata": {},
     "output_type": "execute_result"
    }
   ],
   "source": [
    "viewer = napari.Viewer()\n",
    "\n",
    "kernel = localize.get_filter_kernel(sigmas=[10, 3, 3], drs=[.115, .115, .115], sigma_cutoff=2)\n",
    "viewer.add_image(kernel, name='kernel', colormap='green', blending='additive')\n",
    "\n",
    "# kernel_skewed = deskew(kernel, theta=30, distance=1, pixel_size=1)\n",
    "# viewer.add_image(kernel_skewed, name='kernel_skewed', colormap='red', blending='additive')\n",
    "kernel_skewed = localize_skewed.get_filter_kernel_skewed(sigmas=[10, 3, 3], dc=.115, theta=np.pi*30/180, dstage=.4, sigma_cutoff=2)\n",
    "kernel_deskewed = deskew(kernel_skewed, theta=30, distance=.4, pixel_size=.115)\n",
    "# viewer.add_image(kernel_skewed, name='kernel_skewed', colormap='red', blending='additive')\n",
    "viewer.add_image(kernel_deskewed, name='kernel_deskewed', colormap='red', blending='additive')\n"
   ]
  },
  {
   "cell_type": "code",
   "execution_count": 70,
   "metadata": {},
   "outputs": [
    {
     "name": "stdout",
     "output_type": "stream",
     "text": [
      "(41, 13, 13)\n",
      "(11, 0, 13)\n"
     ]
    }
   ],
   "source": [
    "print(kernel.shape)\n",
    "print(kernel_skewed.shape)\n"
   ]
  },
  {
   "cell_type": "markdown",
   "metadata": {},
   "source": [
    "the `deskew` function outputs a rotated image, with within it a (de)skewed object that is trimmed at the border of the image."
   ]
  },
  {
   "cell_type": "code",
   "execution_count": null,
   "metadata": {},
   "outputs": [],
   "source": []
  },
  {
   "cell_type": "markdown",
   "metadata": {},
   "source": [
    "### Napari parameters selection"
   ]
  },
  {
   "cell_type": "code",
   "execution_count": 7,
   "metadata": {},
   "outputs": [],
   "source": [
    "viewer = napari.Viewer()"
   ]
  },
  {
   "cell_type": "markdown",
   "metadata": {},
   "source": []
  }
 ],
 "metadata": {
  "interpreter": {
   "hash": "2fd17c2a3cc45a29e1bfa15b819c9156ecadd08338159e4fde2e7a7ca42dd8d5"
  },
  "kernelspec": {
   "display_name": "Python 3.8.10 64-bit ('ml')",
   "language": "python",
   "name": "python3"
  },
  "language_info": {
   "codemirror_mode": {
    "name": "ipython",
    "version": 3
   },
   "file_extension": ".py",
   "mimetype": "text/x-python",
   "name": "python",
   "nbconvert_exporter": "python",
   "pygments_lexer": "ipython3",
   "version": "3.8.10"
  },
  "orig_nbformat": 4
 },
 "nbformat": 4,
 "nbformat_minor": 2
}
